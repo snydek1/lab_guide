{
 "cells": [
  {
   "cell_type": "code",
   "execution_count": 1,
   "metadata": {},
   "outputs": [
    {
     "name": "stdout",
     "output_type": "stream",
     "text": [
      "Python version:\n",
      "3.6.1 |Anaconda custom (x86_64)| (default, May 11 2017, 13:04:09) \n",
      "[GCC 4.2.1 Compatible Apple LLVM 6.0 (clang-600.0.57)]\n",
      "\n",
      "matplotlib version: 2.1.1\n",
      "pandas version: 0.22.0\n",
      "numpy version: 1.14.0\n",
      "seaborn version: 0.8.1\n"
     ]
    }
   ],
   "source": [
    "import sys\n",
    "import numpy as np\n",
    "import pandas as pd\n",
    "import seaborn as sns\n",
    "import matplotlib\n",
    "import matplotlib.pyplot as plt\n",
    "%matplotlib inline\n",
    "\n",
    "def versions():\n",
    "    print(\"Python version:\\n{}\\n\".format(sys.version))\n",
    "    print(\"matplotlib version: {}\".format(matplotlib.__version__))\n",
    "    print(\"pandas version: {}\".format(pd.__version__))\n",
    "    print(\"numpy version: {}\".format(np.__version__))\n",
    "    print(\"seaborn version: {}\".format(sns.__version__))\n",
    "\n",
    "versions()"
   ]
  },
  {
   "cell_type": "code",
   "execution_count": null,
   "metadata": {},
   "outputs": [],
   "source": []
  }
 ],
 "metadata": {
  "kernelspec": {
   "display_name": "Python 3",
   "language": "python",
   "name": "python3"
  },
  "language_info": {
   "codemirror_mode": {
    "name": "ipython",
    "version": 3
   },
   "file_extension": ".py",
   "mimetype": "text/x-python",
   "name": "python",
   "nbconvert_exporter": "python",
   "pygments_lexer": "ipython3",
   "version": "3.6.1"
  }
 },
 "nbformat": 4,
 "nbformat_minor": 2
}
